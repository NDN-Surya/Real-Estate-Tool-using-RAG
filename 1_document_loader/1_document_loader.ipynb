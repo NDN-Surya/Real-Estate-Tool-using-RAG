{
 "cells": [
  {
   "cell_type": "markdown",
   "id": "8b1bb785",
   "metadata": {},
   "source": [
    "### UnstructuredURLLoader"
   ]
  },
  {
   "cell_type": "code",
   "execution_count": 6,
   "id": "8c015b12",
   "metadata": {},
   "outputs": [
    {
     "data": {
      "text/plain": [
       "1"
      ]
     },
     "execution_count": 6,
     "metadata": {},
     "output_type": "execute_result"
    }
   ],
   "source": [
    "from langchain_community.document_loaders import UnstructuredURLLoader\n",
    "\n",
    "loader = UnstructuredURLLoader(\n",
    "    urls=[\"https://www.cnbc.com/2024/12/21/how-the-federal-reserves-rate-policy-affects-mortgages.html\"]\n",
    ")\n",
    "docs = loader.load()\n",
    "len(docs)"
   ]
  },
  {
   "cell_type": "code",
   "execution_count": 7,
   "id": "5e1bd8ef",
   "metadata": {},
   "outputs": [
    {
     "data": {
      "text/plain": [
       "{'source': 'https://www.cnbc.com/2024/12/21/how-the-federal-reserves-rate-policy-affects-mortgages.html'}"
      ]
     },
     "execution_count": 7,
     "metadata": {},
     "output_type": "execute_result"
    }
   ],
   "source": [
    "docs[0].metadata"
   ]
  },
  {
   "cell_type": "code",
   "execution_count": 8,
   "id": "08339e66",
   "metadata": {
    "scrolled": false
   },
   "outputs": [
    {
     "data": {
      "text/plain": [
       "'Skip Navigation\\n\\nMarkets\\n\\nPre-Markets\\n\\nU.S. Markets\\n\\nCurrencies\\n\\nCryptocurrency\\n\\nFutures & Commodities\\n\\nBonds\\n\\nFunds & ETFs\\n\\nBusiness\\n\\nEconomy\\n\\nFinance\\n\\nHealth & Science\\n\\nMedia\\n\\nReal Estate\\n\\nEnergy\\n\\nClimate\\n\\nTransportation\\n\\nIndustrials\\n\\nRetail\\n\\nWealth\\n\\nSports\\n\\nLife\\n\\nSmall Business\\n\\nInvesting\\n\\nPersonal Finance\\n\\nFintech\\n\\nFinancial Advisors\\n\\nOptions Action\\n\\nETF Street\\n\\nBuffett Archive\\n\\nEarnings\\n\\nTrader Talk\\n\\nTech\\n\\nCybersecurity\\n\\nEnterprise\\n\\nInternet\\n\\nMedia\\n\\nMobile\\n\\nSocial Media\\n\\nCNBC Disruptor 50\\n\\nTech Guide\\n\\nPolitics\\n\\nWhite House\\n\\nPolicy\\n\\nDefense\\n\\nCongress\\n\\nEquity and Opportunity\\n\\nVideo\\n\\nLatest Video\\n\\nFull Episodes\\n\\nLivestream\\n\\nLive Audio\\n\\nLive TV Schedule\\n\\nCNBC Podcasts\\n\\nCEO Interviews\\n\\nCNBC Documentaries\\n\\nDigital Originals\\n\\nWatchlist\\n\\nInvesting Club\\n\\nTrust Portfolio\\n\\nAnalysis\\n\\nTrade Alerts\\n\\nMeeting Videos\\n\\nHomestretch\\n\\nJim\\'s Columns\\n\\nEducation\\n\\nSubscribe\\n\\nSign In\\n\\nPRO\\n\\nPro News\\n\\nMy PortfolioNEW!\\n\\nLivestream\\n\\nFull Episodes\\n\\nStock Screener\\n\\nMarket Forecast\\n\\nOptions Investing\\n\\nChart Investing\\n\\nSubscribe\\n\\nSign In\\n\\nLivestream\\n\\nMenu\\n\\nMake It\\n\\nselectALL SELECTCredit Cards Loans Banking Mortgages Insurance Credit Monitoring Personal Finance Small Business Taxes Help for Low Credit Scores Investing SELECTAll Credit CardsFind the Credit Card for YouBest Credit CardsBest Rewards Credit CardsBest Travel Credit CardsBest 0% APR Credit CardsBest Balance Transfer Credit CardsBest Cash Back Credit CardsBest Credit Card Welcome BonusesBest Credit Cards to Build CreditSELECTAll LoansFind the Best Personal Loan for YouBest Personal LoansBest Debt Consolidation LoansBest Loans to Refinance Credit Card DebtBest Loans with Fast FundingBest Small Personal LoansBest Large Personal LoansBest Personal Loans to Apply OnlineBest Student Loan RefinanceSELECTAll BankingFind the Savings Account for YouBest High Yield Savings AccountsBest Big Bank Savings AccountsBest Big Bank Checking AccountsBest No Fee Checking AccountsNo Overdraft Fee Checking AccountsBest Checking Account BonusesBest Money Market AccountsBest CDsBest Credit UnionsSELECTAll MortgagesBest MortgagesBest Mortgages for Small Down PaymentBest Mortgages for No Down PaymentBest Mortgages with No Origination FeeBest Mortgages for Average Credit ScoreAdjustable Rate MortgagesAffording a MortgageSELECTAll InsuranceBest Life InsuranceBest Homeowners InsuranceBest Renters InsuranceBest Car InsuranceTravel InsuranceSELECTAll Credit MonitoringBest Credit Monitoring ServicesBest Identity Theft ProtectionHow to Boost Your Credit ScoreCredit Repair ServicesSELECTAll Personal FinanceBest Budgeting AppsBest Expense Tracker AppsBest Money Transfer AppsBest Resale Apps and SitesBuy Now Pay Later (BNPL) AppsBest Debt ReliefSELECTAll Small BusinessBest Small Business Savings AccountsBest Small Business Checking AccountsBest Credit Cards for Small BusinessBest Small Business LoansBest Tax Software for Small BusinessSELECTAll TaxesFiling For FreeBest Tax SoftwareBest Tax Software for Small BusinessesTax RefundsTax BracketsTax TipsTax By StateTax Payment PlansSELECTAll Help for Low Credit ScoresBest Credit Cards for Bad CreditBest Personal Loans for Bad CreditBest Debt Consolidation Loans for Bad CreditPersonal Loans if You Don\\'t Have CreditBest Credit Cards for Building CreditPersonal Loans for 580 Credit Score or LowerPersonal Loans for 670 Credit Score or LowerBest Mortgages for Bad CreditBest Hardship LoansHow to Boost Your Credit ScoreSELECTAll InvestingBest IRA AccountsBest Roth IRA AccountsBest Investing AppsBest Free Stock Trading PlatformsBest Robo-AdvisorsIndex FundsMutual FundsETFsBonds\\n\\nUSA\\n\\nINTL\\n\\nLivestream\\n\\nSearch quotes, news & videos\\n\\nLivestream\\n\\nWatchlist\\n\\nSIGN IN\\n\\nMarkets\\n\\nBusiness\\n\\nInvesting\\n\\nTech\\n\\nPolitics\\n\\nVideo\\n\\nWatchlist\\n\\nInvesting Club\\n\\nPRO\\n\\nLivestream\\n\\nMenu\\n\\nFederal Reserve\\n\\nHow the Federal Reserve\\'s rate policy affects mortgages\\n\\n8:00 AM EST\\n\\nCarlos Waters\\n\\n@in/carloswaters/\\n\\n@carlos_waters\\n\\nWATCH LIVE\\n\\nwatch now\\n\\nVIDEO\\n\\n9:17\\n\\n09:17\\n\\nWhy Fed rate cuts aren\\'t making mortgages cheaper\\n\\nMarkets and Politics Digital Original Video\\n\\nThe Federal Reserve lowered its interest rate target three times in 2024.\\n\\nThis has many Americans waiting for mortgage rates to fall. But that may not happen for some time.\\n\\n\"I think the best case scenario is we\\'re going to continue to see mortgage rates hover around six and a half to 7%,\" said Jordan Jackson, a global market strategist at J.P. Morgan Asset Management. \"So unfortunately for those homeowners who are looking for a bit of a reprieve on the mortgage rate side, that may not come to fruition,\" Jordan said in an interview with CNBC.\\n\\nMortgage rates can be influenced by Fed policy. But the rates are more closely tied to long-term borrowing rates for government debt. The 10-year Treasury note yield has been increasing in recent months as investors consider more expansionary fiscal policies that may come from Washington in 2025. This, combined with signals sent from the market for mortgage-backed securities, determine the rates issued within new mortgages.\\n\\nEconomists at Fannie Mae say the Fed\\'s management of its mortgage-backed securities portfolio may contribute to today\\'s mortgage rates.\\n\\nIn the pandemic, the Fed bought huge amounts of assets, including mortgage-backed securities, to adjust demand and supply dynamics within the bond market. Economists also refer to the technique as \"quantitative easing.\"\\n\\nQuantitative easing can reduce the spread between mortgage rates and Treasury yields, which leads to cheaper loan terms for home buyers. It can also provide opportunities for owners looking to refinance their mortgages. The Fed\\'s use of this technique in the pandemic brought\\n\\nmortgages rates to record lows in 2021.\\n\\n\"They were extra aggressive in 2021 with buying mortgage-backed securities. So, the [quantitative easing] was probably ill-advised at the time.\" said Matthew Graham, COO of Mortgage News Daily.\\n\\nIn 2022, the Federal Reserve kicked off plans to reduce the balance of its holdings, primarily by allowing those assets to mature and \"roll-off\" of its balance sheet. This process is known as \"quantitative tightening,\" and it may add upward pressure on the spread between mortgage rates and Treasury yields.\\n\\n\"I think that\\'s one of the reasons the mortgage rates are still going in the wrong direction from the Federal Reserve\\'s standpoint,\" said George Calhoun, director of the Hanlon Financial Systems Center at Stevens Institute of Technology.\\n\\nWatch the video above to learn how the Fed\\'s decisions affect mortgage rates.\\n\\nRecommended Video\\n\\nwatch now\\n\\nVIDEO\\n\\n10:57\\n\\n10:57\\n\\nWhy so many U.S. cities are in financial trouble\\n\\nMarkets and Politics Digital Original Video\\n\\n\\n\\n\\n\\n\\n\\n\\n\\n\\n\\n\\n\\n\\n\\nSubscribe to CNBC PRO\\n\\nSubscribe to Investing Club\\n\\nLicensing & Reprints\\n\\nCNBC Councils\\n\\nSelect Personal Finance\\n\\nCNBC on Peacock\\n\\nJoin the CNBC Panel\\n\\nSupply Chain Values\\n\\nSelect Shopping\\n\\nClosed Captioning\\n\\nDigital Products\\n\\nNews Releases\\n\\nInternships\\n\\nCorrections\\n\\nAbout CNBC\\n\\nAd Choices\\n\\nSite Map\\n\\nPodcasts\\n\\nCareers\\n\\nHelp\\n\\nContact\\n\\nNews TipsGot a confidential news tip? We want to hear from you.Get In Touch\\n\\nCNBC NewslettersSign up for free newsletters and get more CNBC delivered to your inboxSign Up NowGet this delivered to your inbox, and more info about our products and services.\\n\\nAdvertise With UsPlease Contact Us\\n\\nPrivacy Policy\\n\\n\\n\\nCA Notice\\n\\nTerms of Service\\n\\n© 2024 CNBC LLC. All Rights Reserved.\\xa0A Division of NBCUniversal\\n\\nData is a real-time snapshot *Data is delayed at least 15 minutes.\\n      Global Business and Financial News, Stock Quotes, and Market Data\\n      and Analysis.\\n\\nMarket Data Terms of Use and Disclaimers\\n\\nData also provided by'"
      ]
     },
     "execution_count": 8,
     "metadata": {},
     "output_type": "execute_result"
    }
   ],
   "source": [
    "docs[0].page_content"
   ]
  },
  {
   "cell_type": "markdown",
   "id": "ebc4d5b2",
   "metadata": {},
   "source": [
    "### CSVLoader"
   ]
  },
  {
   "cell_type": "code",
   "execution_count": 9,
   "id": "016cf47c",
   "metadata": {},
   "outputs": [
    {
     "data": {
      "text/plain": [
       "50"
      ]
     },
     "execution_count": 9,
     "metadata": {},
     "output_type": "execute_result"
    }
   ],
   "source": [
    "from langchain_community.document_loaders import CSVLoader\n",
    "\n",
    "loader = CSVLoader(\n",
    "    file_path=\"patient_records.csv\"\n",
    ")\n",
    "docs = loader.load()\n",
    "len(docs)"
   ]
  },
  {
   "cell_type": "code",
   "execution_count": 10,
   "id": "3b7e7330",
   "metadata": {},
   "outputs": [
    {
     "data": {
      "text/plain": [
       "Document(metadata={'source': 'patient_records.csv', 'row': 0}, page_content='patient_id: PT-1000\\nsymptoms: Dizziness, irregular heartbeat, fatigue\\ndiagnosis: Atrial Fibrillation\\ntreatment: Blood thinners, beta-blockers\\ndoctor_notes: Irregular heartbeat detected; cardiology referral made.')"
      ]
     },
     "execution_count": 10,
     "metadata": {},
     "output_type": "execute_result"
    }
   ],
   "source": [
    "docs[0]"
   ]
  },
  {
   "cell_type": "code",
   "execution_count": 11,
   "id": "18c179b0",
   "metadata": {},
   "outputs": [
    {
     "data": {
      "text/plain": [
       "{'source': 'patient_records.csv', 'row': 0}"
      ]
     },
     "execution_count": 11,
     "metadata": {},
     "output_type": "execute_result"
    }
   ],
   "source": [
    "docs[0].metadata"
   ]
  },
  {
   "cell_type": "code",
   "execution_count": 13,
   "id": "f5f4857c",
   "metadata": {},
   "outputs": [
    {
     "name": "stdout",
     "output_type": "stream",
     "text": [
      "patient_id: PT-1000\n",
      "symptoms: Dizziness, irregular heartbeat, fatigue\n",
      "diagnosis: Atrial Fibrillation\n",
      "treatment: Blood thinners, beta-blockers\n",
      "doctor_notes: Irregular heartbeat detected; cardiology referral made.\n"
     ]
    }
   ],
   "source": [
    "print(docs[0].page_content)"
   ]
  }
 ],
 "metadata": {
  "kernelspec": {
   "display_name": "Python 3 (ipykernel)",
   "language": "python",
   "name": "python3"
  },
  "language_info": {
   "codemirror_mode": {
    "name": "ipython",
    "version": 3
   },
   "file_extension": ".py",
   "mimetype": "text/x-python",
   "name": "python",
   "nbconvert_exporter": "python",
   "pygments_lexer": "ipython3",
   "version": "3.10.11"
  }
 },
 "nbformat": 4,
 "nbformat_minor": 5
}
