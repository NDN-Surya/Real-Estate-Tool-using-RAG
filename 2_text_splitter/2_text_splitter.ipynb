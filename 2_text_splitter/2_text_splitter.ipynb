{
 "cells": [
  {
   "cell_type": "markdown",
   "id": "2247dab7",
   "metadata": {},
   "source": [
    "<h2 align=\"center\">Codebasics Gen AI Course: Text Splitter in Langchain</h2>"
   ]
  },
  {
   "cell_type": "code",
   "execution_count": 1,
   "id": "55f290ff",
   "metadata": {},
   "outputs": [],
   "source": [
    "text = '''Hometown Cha-Cha-Cha is a 2021 South Korean romantic comedy drama television series starring Shin Min-a, Kim Seon-ho and Lee Sang-yi. It is a remake of 2004 South Korean film Mr. Handy, Mr. Hong.[6] It aired on tvN from August 28 to October 17, 2021, every Saturday and Sunday at 21:00 (KST).[7][8] It is also available for streaming on Netflix.[9]\n",
    "\n",
    "The series was a commercial hit and became one of the highest-rated dramas in Korean cable television history.[10][11] It ranked first place during its entire run for eight weeks, and the last episode achieved 12.665% nationwide rating, with over 3.2 million views.[12] It also became one of Netflix's most-watched non-English television shows, and one of its longest-running hits as it spent 16 weeks in global top ten rankings.\n",
    "'''"
   ]
  },
  {
   "cell_type": "markdown",
   "id": "bdd1a7e2",
   "metadata": {},
   "source": [
    "### Manual approach of splitting the text into chunks"
   ]
  },
  {
   "cell_type": "code",
   "execution_count": 2,
   "id": "1e1cdfba",
   "metadata": {},
   "outputs": [
    {
     "data": {
      "text/plain": [
       "'Hometown Cha-Cha-Cha is a 2021 South Korean romantic comedy drama television series starring Shin Mi'"
      ]
     },
     "execution_count": 2,
     "metadata": {},
     "output_type": "execute_result"
    }
   ],
   "source": [
    "text[0:100]"
   ]
  },
  {
   "cell_type": "code",
   "execution_count": 3,
   "id": "89ec54fb",
   "metadata": {},
   "outputs": [
    {
     "data": {
      "text/plain": [
       "126"
      ]
     },
     "execution_count": 3,
     "metadata": {},
     "output_type": "execute_result"
    }
   ],
   "source": [
    "# Well but we want complete words and want to do this for entire text, may be we can use Python's split funciton\n",
    "\n",
    "words = text.split(\" \")\n",
    "len(words)"
   ]
  },
  {
   "cell_type": "code",
   "execution_count": 4,
   "id": "f16f1a14",
   "metadata": {},
   "outputs": [],
   "source": [
    "chunks = []\n",
    "\n",
    "s = \"\"\n",
    "for word in words:\n",
    "    s += word + \" \"\n",
    "    if len(s)>200:\n",
    "        chunks.append(s)\n",
    "        s = \"\"\n",
    "        \n",
    "chunks.append(s)"
   ]
  },
  {
   "cell_type": "code",
   "execution_count": 5,
   "id": "df3dedf4",
   "metadata": {},
   "outputs": [
    {
     "data": {
      "text/plain": [
       "['Hometown Cha-Cha-Cha is a 2021 South Korean romantic comedy drama television series starring Shin Min-a, Kim Seon-ho and Lee Sang-yi. It is a remake of 2004 South Korean film Mr. Handy, Mr. Hong.[6] It ',\n",
       " 'aired on tvN from August 28 to October 17, 2021, every Saturday and Sunday at 21:00 (KST).[7][8] It is also available for streaming on Netflix.[9]\\n\\nThe series was a commercial hit and became one of the ']"
      ]
     },
     "execution_count": 5,
     "metadata": {},
     "output_type": "execute_result"
    }
   ],
   "source": [
    "chunks[:2]"
   ]
  },
  {
   "cell_type": "markdown",
   "id": "ea0014d5",
   "metadata": {},
   "source": [
    "Splitting data into chunks can be done in native python but it is a tidious process. Also if necessary, you may need to experiment with various delimiters in an iterative manner to ensure that each chunk does not exceed the token length limit of the respective LLM.\n",
    "\n",
    "Langchain provides a better way through text splitter classes."
   ]
  },
  {
   "cell_type": "markdown",
   "id": "bc7fec57",
   "metadata": {},
   "source": [
    "### CharacterTextSplitter"
   ]
  },
  {
   "cell_type": "code",
   "execution_count": 6,
   "id": "28cbab5e",
   "metadata": {},
   "outputs": [],
   "source": [
    "from langchain_text_splitters import CharacterTextSplitter\n",
    "\n",
    "splitter = CharacterTextSplitter(\n",
    "    separator = \"\\n\",\n",
    "    chunk_size=200,\n",
    "    chunk_overlap=0\n",
    ")"
   ]
  },
  {
   "cell_type": "code",
   "execution_count": 7,
   "id": "a9d15251",
   "metadata": {},
   "outputs": [
    {
     "name": "stderr",
     "output_type": "stream",
     "text": [
      "Created a chunk of size 348, which is longer than the specified 200\n"
     ]
    },
    {
     "data": {
      "text/plain": [
       "2"
      ]
     },
     "execution_count": 7,
     "metadata": {},
     "output_type": "execute_result"
    }
   ],
   "source": [
    "chunks = splitter.split_text(text)\n",
    "len(chunks)"
   ]
  },
  {
   "cell_type": "code",
   "execution_count": 8,
   "id": "5423b2f3",
   "metadata": {},
   "outputs": [
    {
     "data": {
      "text/plain": [
       "(348, 429)"
      ]
     },
     "execution_count": 8,
     "metadata": {},
     "output_type": "execute_result"
    }
   ],
   "source": [
    "len(chunks[0]), len(chunks[1])"
   ]
  },
  {
   "cell_type": "markdown",
   "id": "f45f622c",
   "metadata": {},
   "source": [
    "As you can see, all though we gave 200 as a chunk size since the split was based on \\n, it ended up creating chunks that are bigger than size 200.\n",
    "\n",
    "Another class from Langchain can be used to recursively split the text based on a list of separators. This class is RecursiveTextSplitter. Let's see how it works"
   ]
  },
  {
   "cell_type": "code",
   "execution_count": 11,
   "id": "dfba2e71",
   "metadata": {
    "scrolled": true
   },
   "outputs": [
    {
     "name": "stdout",
     "output_type": "stream",
     "text": [
      "Hometown Cha-Cha-Cha is a 2021 South Korean romantic comedy drama television series starring Shin Min-a, Kim Seon-ho and Lee Sang-yi. It is a remake of 2004 South Korean film Mr. Handy, Mr. Hong.[6] It aired on tvN from August 28 to October 17, 2021, every Saturday and Sunday at 21:00 (KST).[7][8] It is also available for streaming on Netflix.[9]\n",
      "\n",
      "The series was a commercial hit and became one of the highest-rated dramas in Korean cable television history.[10][11] It ranked first place during its entire run for eight weeks, and the last episode achieved 12.665% nationwide rating, with over 3.2 million views.[12] It also became one of Netflix's most-watched non-English television shows, and one of its longest-running hits as it spent 16 weeks in global top ten rankings.\n",
      "\n"
     ]
    }
   ],
   "source": [
    "print(text)"
   ]
  },
  {
   "cell_type": "markdown",
   "id": "0b4b818c",
   "metadata": {},
   "source": [
    "### RecursiveCharacterTextSplitter"
   ]
  },
  {
   "cell_type": "code",
   "execution_count": 17,
   "id": "94ceada2",
   "metadata": {},
   "outputs": [],
   "source": [
    "from langchain_text_splitters import RecursiveCharacterTextSplitter\n",
    "\n",
    "r_splitter = RecursiveCharacterTextSplitter(\n",
    "    separators = [\"\\n\\n\", \"\\n\", \" \"],  # List of separators based on requirement (defaults to [\"\\n\\n\", \"\\n\", \" \"])\n",
    "    chunk_size = 200,  # size of each chunk created\n",
    "    chunk_overlap  = 30,  # size of  overlap between chunks in order to maintain the context\n",
    "    length_function = len  # Function to calculate size, currently we are using \"len\" which denotes length of string however you can pass any token counter)\n",
    ")"
   ]
  },
  {
   "cell_type": "code",
   "execution_count": 18,
   "id": "f9578287",
   "metadata": {},
   "outputs": [
    {
     "name": "stdout",
     "output_type": "stream",
     "text": [
      "198\n",
      "178\n",
      "192\n",
      "196\n",
      "91\n"
     ]
    }
   ],
   "source": [
    "chunks = r_splitter.split_text(text)\n",
    "\n",
    "for chunk in chunks:\n",
    "    print(len(chunk))"
   ]
  },
  {
   "cell_type": "code",
   "execution_count": 19,
   "id": "866b4119",
   "metadata": {
    "scrolled": true
   },
   "outputs": [
    {
     "name": "stdout",
     "output_type": "stream",
     "text": [
      "Hometown Cha-Cha-Cha is a 2021 South Korean romantic comedy drama television series starring Shin Min-a, Kim Seon-ho and Lee Sang-yi. It is a remake of 2004 South Korean film Mr. Handy, Mr. Hong.[6]\n"
     ]
    }
   ],
   "source": [
    "print(chunks[0])"
   ]
  },
  {
   "cell_type": "code",
   "execution_count": 20,
   "id": "ab8087d6",
   "metadata": {
    "scrolled": true
   },
   "outputs": [
    {
     "name": "stdout",
     "output_type": "stream",
     "text": [
      "film Mr. Handy, Mr. Hong.[6] It aired on tvN from August 28 to October 17, 2021, every Saturday and Sunday at 21:00 (KST).[7][8] It is also available for streaming on Netflix.[9]\n"
     ]
    }
   ],
   "source": [
    "print(chunks[1])"
   ]
  },
  {
   "cell_type": "markdown",
   "id": "8d4f023f",
   "metadata": {},
   "source": [
    "As you see above, the second chunk has an overlap of few end characters from the first chunk due to chunk_overlap"
   ]
  },
  {
   "cell_type": "markdown",
   "id": "54e9216b",
   "metadata": {},
   "source": [
    "#### Let's understand how exactly it formed these chunks"
   ]
  },
  {
   "cell_type": "code",
   "execution_count": 21,
   "id": "ce4fda9f",
   "metadata": {},
   "outputs": [
    {
     "data": {
      "text/plain": [
       "'Hometown Cha-Cha-Cha is a 2021 South Korean romantic comedy drama television series starring Shin Min-a, Kim Seon-ho and Lee Sang-yi. It is a remake of 2004 South Korean film Mr. Handy, Mr. Hong.[6] It aired on tvN from August 28 to October 17, 2021, every Saturday and Sunday at 21:00 (KST).[7][8] It is also available for streaming on Netflix.[9]'"
      ]
     },
     "execution_count": 21,
     "metadata": {},
     "output_type": "execute_result"
    }
   ],
   "source": [
    "first_split = text.split(\"\\n\\n\")[0]\n",
    "first_split"
   ]
  },
  {
   "cell_type": "code",
   "execution_count": 22,
   "id": "35286784",
   "metadata": {},
   "outputs": [
    {
     "data": {
      "text/plain": [
       "348"
      ]
     },
     "execution_count": 22,
     "metadata": {},
     "output_type": "execute_result"
    }
   ],
   "source": [
    "len(first_split)"
   ]
  },
  {
   "cell_type": "markdown",
   "id": "6b9a5e90",
   "metadata": {},
   "source": [
    "Recursive text splitter uses a list of separators, i.e. separators = [\"\\n\\n\", \"\\n\", \".\"]\n",
    "\n",
    "So now it will first split using \\n\\n and then if the resulting chunk size is greater than the chunk_size parameter which is 200 in our case, then it will use the next separator which is \\n"
   ]
  },
  {
   "cell_type": "code",
   "execution_count": 23,
   "id": "001f8956",
   "metadata": {},
   "outputs": [
    {
     "data": {
      "text/plain": [
       "['Hometown Cha-Cha-Cha is a 2021 South Korean romantic comedy drama television series starring Shin Min-a, Kim Seon-ho and Lee Sang-yi. It is a remake of 2004 South Korean film Mr. Handy, Mr. Hong.[6] It aired on tvN from August 28 to October 17, 2021, every Saturday and Sunday at 21:00 (KST).[7][8] It is also available for streaming on Netflix.[9]']"
      ]
     },
     "execution_count": 23,
     "metadata": {},
     "output_type": "execute_result"
    }
   ],
   "source": [
    "second_split = first_split.split(\"\\n\")\n",
    "second_split"
   ]
  },
  {
   "cell_type": "code",
   "execution_count": 25,
   "id": "39c7e980",
   "metadata": {},
   "outputs": [
    {
     "data": {
      "text/plain": [
       "348"
      ]
     },
     "execution_count": 25,
     "metadata": {},
     "output_type": "execute_result"
    }
   ],
   "source": [
    "len(second_split[0])"
   ]
  },
  {
   "cell_type": "code",
   "execution_count": 26,
   "id": "43a6346f",
   "metadata": {},
   "outputs": [
    {
     "data": {
      "text/plain": [
       "59"
      ]
     },
     "execution_count": 26,
     "metadata": {},
     "output_type": "execute_result"
    }
   ],
   "source": [
    "third_split = second_split[0].split(\" \")\n",
    "len(third_split)"
   ]
  },
  {
   "cell_type": "code",
   "execution_count": 27,
   "id": "82654b0d",
   "metadata": {},
   "outputs": [
    {
     "data": {
      "text/plain": [
       "'Hometown'"
      ]
     },
     "execution_count": 27,
     "metadata": {},
     "output_type": "execute_result"
    }
   ],
   "source": [
    "third_split[0]"
   ]
  }
 ],
 "metadata": {
  "kernelspec": {
   "display_name": "Python 3 (ipykernel)",
   "language": "python",
   "name": "python3"
  },
  "language_info": {
   "codemirror_mode": {
    "name": "ipython",
    "version": 3
   },
   "file_extension": ".py",
   "mimetype": "text/x-python",
   "name": "python",
   "nbconvert_exporter": "python",
   "pygments_lexer": "ipython3",
   "version": "3.10.11"
  }
 },
 "nbformat": 4,
 "nbformat_minor": 5
}
